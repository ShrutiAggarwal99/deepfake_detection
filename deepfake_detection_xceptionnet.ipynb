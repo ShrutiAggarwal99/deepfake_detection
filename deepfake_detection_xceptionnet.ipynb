{
 "cells": [
  {
   "cell_type": "code",
   "execution_count": 1,
   "metadata": {},
   "outputs": [],
   "source": [
    "import os\n",
    "import cv2\n",
    "import json\n",
    "import tensorflow as tf\n",
    "import keras\n",
    "import numpy as np\n",
    "import matplotlib.pyplot as plt\n",
    "import seaborn as sn\n",
    "import pandas as pd\n",
    "from tensorflow.keras.preprocessing.image import ImageDataGenerator, img_to_array, load_img\n",
    "from tensorflow.keras.utils import to_categorical\n",
    "from sklearn.model_selection import train_test_split\n",
    "from sklearn.metrics import confusion_matrix\n",
    "from keras.applications import xception\n",
    "from keras.models import model_from_json, Model\n",
    "from keras.layers import Input, Dense, Dropout, LSTM, TimeDistributed\n",
    "\n",
    "from sklearn import metrics\n",
    "import matplotlib.pyplot as plt\n",
    "from tensorflow.keras.models import Model, load_model"
   ]
  },
  {
   "cell_type": "code",
   "execution_count": 2,
   "metadata": {},
   "outputs": [],
   "source": [
    "input_shape = (128, 128, 3)\n",
    "data_dir = './dfdc_data/train_sample_videos/dataset'\n",
    "\n",
    "real_data = [f for f in os.listdir(data_dir+'/real') if f.endswith('.png')]\n",
    "fake_data = [f for f in os.listdir(data_dir+'/fake') if f.endswith('.png')]\n",
    "\n",
    "X = []\n",
    "Y = []\n",
    "\n",
    "for img in real_data:\n",
    "    X.append(img_to_array(load_img(data_dir+'/real/'+img)).flatten() / 255.0)\n",
    "    Y.append(1)\n",
    "for img in fake_data:\n",
    "    X.append(img_to_array(load_img(data_dir+'/fake/'+img)).flatten() / 255.0)\n",
    "    Y.append(0)\n",
    "\n",
    "Y_val_org = Y\n",
    "\n",
    "#Normalization\n",
    "X = np.array(X)\n",
    "# Y = np.array(Y) # 0 : deepfake, 1 : real # for testing\n",
    "Y = to_categorical(Y, 2) # for training\n",
    "\n",
    "#Reshape\n",
    "X = X.reshape(-1, 128, 128, 3)\n",
    "\n",
    "#Train-Test split\n",
    "X_train, X_val, Y_train, Y_val = train_test_split(X, Y, test_size = 0.2, random_state=5)"
   ]
  },
  {
   "cell_type": "code",
   "execution_count": 3,
   "metadata": {},
   "outputs": [
    {
     "name": "stdout",
     "output_type": "stream",
     "text": [
      "Model: \"sequential\"\n",
      "_________________________________________________________________\n",
      "Layer (type)                 Output Shape              Param #   \n",
      "=================================================================\n",
      "xception (Functional)        (None, 4, 4, 2048)        20861480  \n",
      "_________________________________________________________________\n",
      "global_average_pooling2d (Gl (None, 2048)              0         \n",
      "_________________________________________________________________\n",
      "dense (Dense)                (None, 2)                 4098      \n",
      "=================================================================\n",
      "Total params: 20,865,578\n",
      "Trainable params: 20,811,050\n",
      "Non-trainable params: 54,528\n",
      "_________________________________________________________________\n"
     ]
    }
   ],
   "source": [
    "from tensorflow.keras.applications import Xception\n",
    "from tensorflow.keras.layers import Conv2D\n",
    "from tensorflow.keras.layers import MaxPooling2D\n",
    "from tensorflow.keras.layers import Flatten\n",
    "from tensorflow.keras.layers import Dense\n",
    "from tensorflow.keras.layers import Dropout\n",
    "from tensorflow.keras.layers import InputLayer\n",
    "from tensorflow.keras.layers import GlobalAveragePooling2D\n",
    "from tensorflow.keras.models import Sequential\n",
    "from tensorflow.keras.models import Model\n",
    "from tensorflow.keras import optimizers\n",
    "from tensorflow.keras.callbacks import ReduceLROnPlateau, EarlyStopping\n",
    "\n",
    "googleNet_model = Xception(include_top=False,\n",
    "    weights=\"imagenet\",\n",
    "    input_tensor=None,\n",
    "    input_shape=(128, 128, 3),\n",
    "    pooling=max,\n",
    "    classes=1000,\n",
    "    classifier_activation=\"softmax\",\n",
    ")\n",
    "googleNet_model.trainable = True\n",
    "model = Sequential()\n",
    "model.add(googleNet_model)\n",
    "model.add(GlobalAveragePooling2D())\n",
    "model.add(Dense(units=2, activation='softmax'))\n",
    "model.compile(loss='binary_crossentropy',\n",
    "              optimizer=optimizers.Adam(lr=1e-5, beta_1=0.9, beta_2=0.999, epsilon=None, decay=0.0, amsgrad=False),\n",
    "              metrics=['accuracy'])\n",
    "model.summary()"
   ]
  },
  {
   "cell_type": "code",
   "execution_count": 4,
   "metadata": {},
   "outputs": [
    {
     "name": "stdout",
     "output_type": "stream",
     "text": [
      "Epoch 1/30\n",
      "30/30 [==============================] - 424s 14s/step - loss: 0.7036 - accuracy: 0.5134 - val_loss: 0.6926 - val_accuracy: 0.5768\n",
      "Epoch 2/30\n",
      "30/30 [==============================] - 422s 14s/step - loss: 0.6427 - accuracy: 0.7458 - val_loss: 0.6427 - val_accuracy: 0.7156\n",
      "Epoch 3/30\n",
      "30/30 [==============================] - 431s 14s/step - loss: 0.5728 - accuracy: 0.8326 - val_loss: 0.5900 - val_accuracy: 0.7864\n",
      "Epoch 4/30\n",
      "30/30 [==============================] - 432s 14s/step - loss: 0.5037 - accuracy: 0.8327 - val_loss: 0.5309 - val_accuracy: 0.7984\n",
      "Epoch 5/30\n",
      "30/30 [==============================] - 428s 14s/step - loss: 0.4415 - accuracy: 0.8456 - val_loss: 0.4643 - val_accuracy: 0.7984\n",
      "Epoch 6/30\n",
      "30/30 [==============================] - 431s 14s/step - loss: 0.3777 - accuracy: 0.8434 - val_loss: 0.4118 - val_accuracy: 0.8011\n",
      "Epoch 7/30\n",
      "30/30 [==============================] - 429s 14s/step - loss: 0.3442 - accuracy: 0.8431 - val_loss: 0.3760 - val_accuracy: 0.8077\n",
      "Epoch 8/30\n",
      "30/30 [==============================] - 430s 14s/step - loss: 0.2928 - accuracy: 0.8552 - val_loss: 0.3503 - val_accuracy: 0.8131\n",
      "Epoch 9/30\n",
      "30/30 [==============================] - 452s 15s/step - loss: 0.2647 - accuracy: 0.8774 - val_loss: 0.3327 - val_accuracy: 0.8251\n",
      "Epoch 10/30\n",
      "30/30 [==============================] - 437s 15s/step - loss: 0.2315 - accuracy: 0.9002 - val_loss: 0.3177 - val_accuracy: 0.8344\n",
      "Epoch 11/30\n",
      "30/30 [==============================] - 431s 14s/step - loss: 0.1923 - accuracy: 0.9379 - val_loss: 0.3084 - val_accuracy: 0.8425\n",
      "Epoch 12/30\n",
      "30/30 [==============================] - 429s 14s/step - loss: 0.1566 - accuracy: 0.9556 - val_loss: 0.3000 - val_accuracy: 0.8638\n",
      "Epoch 13/30\n",
      "30/30 [==============================] - 429s 14s/step - loss: 0.1188 - accuracy: 0.9744 - val_loss: 0.2743 - val_accuracy: 0.8825\n",
      "Epoch 14/30\n",
      "30/30 [==============================] - 445s 15s/step - loss: 0.0949 - accuracy: 0.9794 - val_loss: 0.2624 - val_accuracy: 0.8959\n",
      "Epoch 15/30\n",
      "30/30 [==============================] - 432s 14s/step - loss: 0.0704 - accuracy: 0.9835 - val_loss: 0.2455 - val_accuracy: 0.9065\n",
      "Epoch 16/30\n",
      "30/30 [==============================] - 432s 14s/step - loss: 0.0622 - accuracy: 0.9851 - val_loss: 0.2429 - val_accuracy: 0.9092\n",
      "Epoch 17/30\n",
      "30/30 [==============================] - 430s 14s/step - loss: 0.0456 - accuracy: 0.9918 - val_loss: 0.2316 - val_accuracy: 0.9159\n",
      "Epoch 18/30\n",
      "30/30 [==============================] - 434s 15s/step - loss: 0.0373 - accuracy: 0.9930 - val_loss: 0.2286 - val_accuracy: 0.9199\n",
      "Epoch 19/30\n",
      "30/30 [==============================] - 451s 15s/step - loss: 0.0309 - accuracy: 0.9925 - val_loss: 0.2212 - val_accuracy: 0.9252\n",
      "Epoch 20/30\n",
      "30/30 [==============================] - 460s 15s/step - loss: 0.0303 - accuracy: 0.9943 - val_loss: 0.2150 - val_accuracy: 0.9266\n",
      "Epoch 21/30\n",
      "30/30 [==============================] - 437s 15s/step - loss: 0.0272 - accuracy: 0.9927 - val_loss: 0.2089 - val_accuracy: 0.9306\n",
      "Epoch 22/30\n",
      "30/30 [==============================] - 453s 15s/step - loss: 0.0288 - accuracy: 0.9960 - val_loss: 0.2028 - val_accuracy: 0.9306\n",
      "Epoch 23/30\n",
      "30/30 [==============================] - 435s 14s/step - loss: 0.0205 - accuracy: 0.9969 - val_loss: 0.2045 - val_accuracy: 0.9279\n",
      "Epoch 24/30\n",
      "30/30 [==============================] - 432s 14s/step - loss: 0.0218 - accuracy: 0.9967 - val_loss: 0.2015 - val_accuracy: 0.9332\n",
      "Epoch 25/30\n",
      "30/30 [==============================] - 425s 14s/step - loss: 0.0197 - accuracy: 0.9992 - val_loss: 0.2028 - val_accuracy: 0.9319\n",
      "Epoch 26/30\n",
      "30/30 [==============================] - 423s 14s/step - loss: 0.0164 - accuracy: 0.9994 - val_loss: 0.1996 - val_accuracy: 0.9346\n",
      "Epoch 27/30\n",
      "30/30 [==============================] - 434s 15s/step - loss: 0.0156 - accuracy: 0.9982 - val_loss: 0.1983 - val_accuracy: 0.9346\n",
      "Epoch 28/30\n",
      "30/30 [==============================] - 456s 15s/step - loss: 0.0157 - accuracy: 0.9985 - val_loss: 0.1971 - val_accuracy: 0.9372\n",
      "Epoch 29/30\n",
      "30/30 [==============================] - 454s 15s/step - loss: 0.0149 - accuracy: 0.9997 - val_loss: 0.1953 - val_accuracy: 0.9332\n",
      "Epoch 30/30\n",
      "30/30 [==============================] - 453s 15s/step - loss: 0.0121 - accuracy: 0.9991 - val_loss: 0.1953 - val_accuracy: 0.9372\n"
     ]
    }
   ],
   "source": [
    "early_stopping = EarlyStopping(monitor='val_loss',\n",
    "                               min_delta=0,\n",
    "                               patience=2,\n",
    "                               verbose=0, mode='auto')\n",
    "EPOCHS = 30\n",
    "BATCH_SIZE = 100\n",
    "history = model.fit(X_train, Y_train, batch_size = BATCH_SIZE, epochs = EPOCHS, validation_data = (X_val, Y_val), verbose = 1)"
   ]
  },
  {
   "cell_type": "code",
   "execution_count": 21,
   "metadata": {},
   "outputs": [
    {
     "data": {
      "image/png": "[encoded data removed]",
      "text/plain": [
       "<Figure size 1440x288 with 2 Axes>"
      ]
     },
     "metadata": {
      "needs_background": "light"
     },
     "output_type": "display_data"
    }
   ],
   "source": [
    "epoch_list = list(range(1,EPOCHS+1))\n",
    "\n",
    "# fig = plt.figure()\n",
    "fig, (ax1, ax2) = plt.subplots(1, 2, figsize=(20, 4))\n",
    "\n",
    "# ax1 = fig.add_subplot(2,1,1)\n",
    "ax1.plot(epoch_list, history.history['accuracy'], label='Train Accuracy')\n",
    "ax1.plot(epoch_list, history.history['val_accuracy'], label='Validation Accuracy')\n",
    "ax1.set_xticks(np.arange(0, EPOCHS+1, 1))\n",
    "ax1.set_ylabel('Accuracy Value')\n",
    "ax1.set_xlabel('Epoch #')\n",
    "ax1.set_title('Accuracy')\n",
    "ax1.legend(loc=\"best\")\n",
    "\n",
    "# ax2 = fig.add_subplot(2,1,2)\n",
    "ax2.plot(epoch_list, history.history['loss'], label='Train Loss')\n",
    "ax2.plot(epoch_list, history.history['val_loss'], label='Validation Loss')\n",
    "ax2.set_xticks(np.arange(0, EPOCHS+1, 1))\n",
    "ax2.set_ylabel('Loss Value')\n",
    "ax2.set_xlabel('Epoch #')\n",
    "ax2.set_title('Loss')\n",
    "ax2.legend(loc=\"best\")\n",
    "\n",
    "# Save just the portion _inside_ the second axis's boundaries\n",
    "extent2 = ax2.get_window_extent().transformed(fig.dpi_scale_trans.inverted())\n",
    "fig.savefig('xcp_loss_plot.png', bbox_inches=extent2.expanded(1.2, 1.4), dpi = 300)\n",
    "\n",
    "extent1 = ax1.get_window_extent().transformed(fig.dpi_scale_trans.inverted())\n",
    "fig.savefig('xcp_accuracy_plot.png', bbox_inches=extent1.expanded(1.2, 1.4), dpi = 300)\n",
    "\n",
    "# Pad the saved area by 10% in the x-direction and 20% in the y-direction\n",
    "# fig.savefig('ax2_figure_expanded.png', bbox_inches=extent.expanded(1.1, 1.2))"
   ]
  },
  {
   "cell_type": "code",
   "execution_count": null,
   "metadata": {},
   "outputs": [],
   "source": [
    "Y_val_pred_proba = model.predict_proba(X_val)\n",
    "Y_val_pred_proba"
   ]
  },
  {
   "cell_type": "code",
   "execution_count": null,
   "metadata": {},
   "outputs": [],
   "source": [
    "Y_val_pred = model.predict_classes(X_val)\n",
    "Y_val_pred"
   ]
  },
  {
   "cell_type": "code",
   "execution_count": null,
   "metadata": {},
   "outputs": [],
   "source": [
    "Y_val"
   ]
  },
  {
   "cell_type": "code",
   "execution_count": null,
   "metadata": {},
   "outputs": [],
   "source": [
    "def print_confusion_matrix(y_true, y_pred):\n",
    "    cm = confusion_matrix(y_true, y_pred)\n",
    "    print('True positive = ', cm[0][0])\n",
    "    print('False positive = ', cm[0][1])\n",
    "    print('False negative = ', cm[1][0])\n",
    "    print('True negative = ', cm[1][1])\n",
    "    print('\\n')\n",
    "    df_cm = pd.DataFrame(cm, range(2), range(2))\n",
    "    sn.set(font_scale=1.4) # for label size\n",
    "    sn.heatmap(df_cm, annot=True, annot_kws={\"size\": 16}) # font size\n",
    "    plt.ylabel('Actual label', size = 20)\n",
    "    plt.xlabel('Predicted label', size = 20)\n",
    "    plt.xticks(np.arange(2), ['Fake', 'Real'], size = 16)\n",
    "    plt.yticks(np.arange(2), ['Fake', 'Real'], size = 16)\n",
    "    plt.ylim([2, 0])\n",
    "    plt.show()\n",
    "    \n",
    "print_confusion_matrix(Y_val, Y_val_pred)"
   ]
  },
  {
   "cell_type": "code",
   "execution_count": null,
   "metadata": {},
   "outputs": [],
   "source": [
    "model = load_model('deepfake-xception-model.h5')"
   ]
  },
  {
   "cell_type": "code",
   "execution_count": null,
   "metadata": {},
   "outputs": [],
   "source": [
    "# print(\"ROC AUC Score:\", metrics.roc_auc_score(Y_val, Y_val_pred_proba)) -> better use auc on roc_curve\n",
    "# print(\"AP Score:\", metrics.average_precision_score(Y_val, Y_val_pred_proba))\n",
    "print(\"\\n\")\n",
    "print(metrics.classification_report(Y_val, Y_val_pred))"
   ]
  },
  {
   "cell_type": "code",
   "execution_count": null,
   "metadata": {},
   "outputs": [],
   "source": [
    "import matplotlib.pyplot as plt\n",
    "from sklearn import metrics\n",
    "\n",
    "fpr, tpr, threshold = metrics.roc_curve(Y_val, Y_val_pred)\n",
    "roc_auc = metrics.auc(fpr, tpr)\n",
    "print(roc_auc)\n",
    "\n",
    "plt.title('Receiver Operating Characteristic')\n",
    "plt.plot(fpr, tpr, 'b', label = 'Inception-Resnet-v2 AUC = %0.2f' % roc_auc)\n",
    "plt.legend(loc = 'lower right')\n",
    "plt.plot([0, 1], [0, 1],'r--')\n",
    "plt.xlim([0, 1])\n",
    "plt.ylim([0, 1])\n",
    "plt.ylabel('True Positive Rate')\n",
    "plt.xlabel('False Positive Rate')\n",
    "plt.show()"
   ]
  },
  {
   "cell_type": "code",
   "execution_count": null,
   "metadata": {},
   "outputs": [],
   "source": [
    "import matplotlib.pyplot as plt\n",
    "from sklearn import metrics\n",
    "\n",
    "fpr, tpr, threshold = metrics.roc_curve(Y_val, Y_val_pred)\n",
    "roc_auc = metrics.auc(fpr, tpr)\n",
    "print(roc_auc)\n",
    "\n",
    "plt.title('Receiver Operating Characteristic')\n",
    "plt.plot(fpr, tpr, 'b', label = 'Inception-Resnet-v2 AUC = %0.2f' % roc_auc)\n",
    "plt.legend(loc = 'lower right')\n",
    "plt.plot([0, 1], [0, 1],'r--')\n",
    "plt.xlim([0, 1])\n",
    "plt.ylim([0, 1])\n",
    "plt.ylabel('True Positive Rate')\n",
    "plt.xlabel('False Positive Rate')\n",
    "\n",
    "plt.savefig(\"xcp_roc_plot.png\", dpi = 150)\n",
    "\n",
    "plt.show()"
   ]
  },
  {
   "cell_type": "code",
   "execution_count": null,
   "metadata": {},
   "outputs": [],
   "source": [
    "model = load_model('deepfake-xception-model.h5')\n",
    "model.load_weights('deepfake-xception-model.h5')\n",
    "model"
   ]
  },
  {
   "cell_type": "code",
   "execution_count": null,
   "metadata": {},
   "outputs": [],
   "source": [
    "model.save('deepfake-xception-model.h5')"
   ]
  }
 ],
 "metadata": {
  "kernelspec": {
   "display_name": "Python 3",
   "language": "python",
   "name": "python3"
  },
  "language_info": {
   "codemirror_mode": {
    "name": "ipython",
    "version": 3
   },
   "file_extension": ".py",
   "mimetype": "text/x-python",
   "name": "python",
   "nbconvert_exporter": "python",
   "pygments_lexer": "ipython3",
   "version": "3.7.4"
  }
 },
 "nbformat": 4,
 "nbformat_minor": 2
}
