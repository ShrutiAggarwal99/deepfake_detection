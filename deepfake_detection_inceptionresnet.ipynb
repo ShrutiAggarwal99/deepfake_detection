{
 "cells": [
  {
   "cell_type": "code",
   "execution_count": 1,
   "metadata": {},
   "outputs": [],
   "source": [
    "import os\n",
    "import cv2\n",
    "import json\n",
    "import tensorflow as tf\n",
    "import numpy as np\n",
    "import matplotlib.pyplot as plt\n",
    "import seaborn as sn\n",
    "import pandas as pd\n",
    "from tensorflow.keras.preprocessing.image import ImageDataGenerator, img_to_array, load_img\n",
    "from tensorflow.keras.utils import to_categorical\n",
    "from sklearn.model_selection import train_test_split\n",
    "from sklearn.metrics import confusion_matrix\n",
    "\n",
    "from sklearn import metrics\n",
    "import matplotlib.pyplot as plt\n",
    "from tensorflow.keras.models import Model, load_model"
   ]
  },
  {
   "cell_type": "code",
   "execution_count": 2,
   "metadata": {},
   "outputs": [],
   "source": [
    "input_shape = (128, 128, 3)\n",
    "data_dir = './dfdc_data/train_sample_videos/dataset'\n",
    "\n",
    "real_data = [f for f in os.listdir(data_dir+'/real') if f.endswith('.png')]\n",
    "fake_data = [f for f in os.listdir(data_dir+'/fake') if f.endswith('.png')]\n",
    "\n",
    "X = []\n",
    "Y = []\n",
    "\n",
    "for img in real_data:\n",
    "    X.append(img_to_array(load_img(data_dir+'/real/'+img)).flatten() / 255.0)\n",
    "    Y.append(1)\n",
    "for img in fake_data:\n",
    "    X.append(img_to_array(load_img(data_dir+'/fake/'+img)).flatten() / 255.0)\n",
    "    Y.append(0)\n",
    "\n",
    "Y_val_org = Y\n",
    "\n",
    "#Normalization\n",
    "X = np.array(X)\n",
    "# Y = np.array(Y) # for testing\n",
    "Y = to_categorical(Y, 2) # for training\n",
    "\n",
    "#Reshape\n",
    "X = X.reshape(-1, 128, 128, 3)\n",
    "\n",
    "#Train-Test split\n",
    "X_train, X_val, Y_train, Y_val = train_test_split(X, Y, test_size = 0.2, random_state=5)"
   ]
  },
  {
   "cell_type": "code",
   "execution_count": 3,
   "metadata": {},
   "outputs": [
    {
     "name": "stdout",
     "output_type": "stream",
     "text": [
      "Model: \"sequential\"\n",
      "_________________________________________________________________\n",
      "Layer (type)                 Output Shape              Param #   \n",
      "=================================================================\n",
      "inception_resnet_v2 (Functio (None, 2, 2, 1536)        54336736  \n",
      "_________________________________________________________________\n",
      "global_average_pooling2d (Gl (None, 1536)              0         \n",
      "_________________________________________________________________\n",
      "dense (Dense)                (None, 2)                 3074      \n",
      "=================================================================\n",
      "Total params: 54,339,810\n",
      "Trainable params: 54,279,266\n",
      "Non-trainable params: 60,544\n",
      "_________________________________________________________________\n"
     ]
    }
   ],
   "source": [
    "from tensorflow.keras.applications import InceptionResNetV2\n",
    "from tensorflow.keras.layers import Conv2D\n",
    "from tensorflow.keras.layers import MaxPooling2D\n",
    "from tensorflow.keras.layers import Flatten\n",
    "from tensorflow.keras.layers import Dense\n",
    "from tensorflow.keras.layers import Dropout\n",
    "from tensorflow.keras.layers import InputLayer\n",
    "from tensorflow.keras.layers import GlobalAveragePooling2D\n",
    "from tensorflow.keras.models import Sequential\n",
    "from tensorflow.keras.models import Model\n",
    "from tensorflow.keras import optimizers\n",
    "from tensorflow.keras.callbacks import ReduceLROnPlateau, EarlyStopping\n",
    "\n",
    "googleNet_model = InceptionResNetV2(include_top=False, weights='imagenet', input_shape=input_shape)\n",
    "googleNet_model.trainable = True\n",
    "model = Sequential()\n",
    "model.add(googleNet_model)\n",
    "model.add(GlobalAveragePooling2D())\n",
    "model.add(Dense(units=2, activation='softmax'))\n",
    "model.compile(loss='binary_crossentropy',\n",
    "              optimizer=optimizers.Adam(lr=1e-5, beta_1=0.9, beta_2=0.999, epsilon=None, decay=0.0, amsgrad=False),\n",
    "              metrics=['accuracy'])\n",
    "model.summary()"
   ]
  },
  {
   "cell_type": "code",
   "execution_count": null,
   "metadata": {},
   "outputs": [],
   "source": [
    "# model.load_weights('deepfake-detection-model.h5')\n",
    "# model"
   ]
  },
  {
   "cell_type": "code",
   "execution_count": 4,
   "metadata": {},
   "outputs": [
    {
     "name": "stdout",
     "output_type": "stream",
     "text": [
      "Epoch 1/30\n",
      "30/30 [==============================] - 537s 17s/step - loss: 0.7593 - accuracy: 0.4582 - val_loss: 0.9148 - val_accuracy: 0.3605\n",
      "Epoch 2/30\n",
      "30/30 [==============================] - 495s 17s/step - loss: 0.6285 - accuracy: 0.7050 - val_loss: 0.8631 - val_accuracy: 0.3431\n",
      "Epoch 3/30\n",
      "30/30 [==============================] - 489s 16s/step - loss: 0.5203 - accuracy: 0.8363 - val_loss: 0.8377 - val_accuracy: 0.3658\n",
      "Epoch 4/30\n",
      "30/30 [==============================] - 492s 16s/step - loss: 0.4408 - accuracy: 0.8883 - val_loss: 0.7922 - val_accuracy: 0.4166\n",
      "Epoch 5/30\n",
      "30/30 [==============================] - 493s 16s/step - loss: 0.3525 - accuracy: 0.9081 - val_loss: 0.7671 - val_accuracy: 0.4566\n",
      "Epoch 6/30\n",
      "30/30 [==============================] - 498s 17s/step - loss: 0.2774 - accuracy: 0.9411 - val_loss: 0.7255 - val_accuracy: 0.5554\n",
      "Epoch 7/30\n",
      "30/30 [==============================] - 499s 17s/step - loss: 0.2211 - accuracy: 0.9477 - val_loss: 0.6621 - val_accuracy: 0.6529\n",
      "Epoch 8/30\n",
      "30/30 [==============================] - 480s 16s/step - loss: 0.1882 - accuracy: 0.9557 - val_loss: 0.5852 - val_accuracy: 0.7570\n",
      "Epoch 9/30\n",
      "30/30 [==============================] - 494s 17s/step - loss: 0.1391 - accuracy: 0.9690 - val_loss: 0.5274 - val_accuracy: 0.7904\n",
      "Epoch 10/30\n",
      "30/30 [==============================] - 503s 17s/step - loss: 0.1092 - accuracy: 0.9739 - val_loss: 0.4410 - val_accuracy: 0.8331\n",
      "Epoch 11/30\n",
      "30/30 [==============================] - 500s 17s/step - loss: 0.0842 - accuracy: 0.9810 - val_loss: 0.3842 - val_accuracy: 0.8638\n",
      "Epoch 12/30\n",
      "30/30 [==============================] - 490s 16s/step - loss: 0.0782 - accuracy: 0.9809 - val_loss: 0.3537 - val_accuracy: 0.8879\n",
      "Epoch 13/30\n",
      "30/30 [==============================] - 501s 17s/step - loss: 0.0642 - accuracy: 0.9855 - val_loss: 0.3280 - val_accuracy: 0.8999\n",
      "Epoch 14/30\n",
      "30/30 [==============================] - 499s 17s/step - loss: 0.0529 - accuracy: 0.9848 - val_loss: 0.3148 - val_accuracy: 0.9039\n",
      "Epoch 15/30\n",
      "30/30 [==============================] - 499s 17s/step - loss: 0.0447 - accuracy: 0.9882 - val_loss: 0.2971 - val_accuracy: 0.9092\n",
      "Epoch 16/30\n",
      "30/30 [==============================] - 488s 16s/step - loss: 0.0342 - accuracy: 0.9913 - val_loss: 0.2923 - val_accuracy: 0.9079\n",
      "Epoch 17/30\n",
      "30/30 [==============================] - 489s 16s/step - loss: 0.0374 - accuracy: 0.9879 - val_loss: 0.3000 - val_accuracy: 0.9065\n",
      "Epoch 18/30\n",
      "30/30 [==============================] - 497s 17s/step - loss: 0.0318 - accuracy: 0.9890 - val_loss: 0.3092 - val_accuracy: 0.9052\n",
      "Epoch 19/30\n",
      "30/30 [==============================] - 497s 17s/step - loss: 0.0277 - accuracy: 0.9921 - val_loss: 0.3132 - val_accuracy: 0.9079\n",
      "Epoch 20/30\n",
      "30/30 [==============================] - 498s 17s/step - loss: 0.0209 - accuracy: 0.9948 - val_loss: 0.3282 - val_accuracy: 0.9065\n",
      "Epoch 21/30\n",
      "30/30 [==============================] - 496s 17s/step - loss: 0.0206 - accuracy: 0.9929 - val_loss: 0.3267 - val_accuracy: 0.9079\n",
      "Epoch 22/30\n",
      "30/30 [==============================] - 498s 17s/step - loss: 0.0155 - accuracy: 0.9963 - val_loss: 0.3418 - val_accuracy: 0.9012\n",
      "Epoch 23/30\n",
      "30/30 [==============================] - 506s 17s/step - loss: 0.0137 - accuracy: 0.9975 - val_loss: 0.3644 - val_accuracy: 0.9012\n",
      "Epoch 24/30\n",
      "30/30 [==============================] - 500s 17s/step - loss: 0.0147 - accuracy: 0.9970 - val_loss: 0.3581 - val_accuracy: 0.9052\n",
      "Epoch 25/30\n",
      "30/30 [==============================] - 483s 16s/step - loss: 0.0163 - accuracy: 0.9965 - val_loss: 0.3640 - val_accuracy: 0.9012\n",
      "Epoch 26/30\n",
      "30/30 [==============================] - 477s 16s/step - loss: 0.0143 - accuracy: 0.9957 - val_loss: 0.3610 - val_accuracy: 0.8985\n",
      "Epoch 27/30\n",
      "30/30 [==============================] - 409s 14s/step - loss: 0.0143 - accuracy: 0.9969 - val_loss: 0.3441 - val_accuracy: 0.9065\n",
      "Epoch 28/30\n",
      "30/30 [==============================] - 351s 12s/step - loss: 0.0105 - accuracy: 0.9971 - val_loss: 0.3491 - val_accuracy: 0.9065\n",
      "Epoch 29/30\n",
      "30/30 [==============================] - 348s 12s/step - loss: 0.0087 - accuracy: 0.9976 - val_loss: 0.3673 - val_accuracy: 0.9092\n",
      "Epoch 30/30\n",
      "30/30 [==============================] - 353s 12s/step - loss: 0.0083 - accuracy: 0.9970 - val_loss: 0.3465 - val_accuracy: 0.9132\n"
     ]
    }
   ],
   "source": [
    "early_stopping = EarlyStopping(monitor='val_loss',\n",
    "                               min_delta=0,\n",
    "                               patience=2,\n",
    "                               verbose=0, mode='auto')\n",
    "EPOCHS = 30\n",
    "BATCH_SIZE = 100\n",
    "history = model.fit(X_train, Y_train, batch_size = BATCH_SIZE, epochs = EPOCHS, validation_data = (X_val, Y_val), verbose = 1)"
   ]
  },
  {
   "cell_type": "code",
   "execution_count": 8,
   "metadata": {},
   "outputs": [
    {
     "data": {
      "image/png": "[encoded data removed]",
      "text/plain": [
       "<Figure size 1440x288 with 2 Axes>"
      ]
     },
     "metadata": {
      "needs_background": "light"
     },
     "output_type": "display_data"
    }
   ],
   "source": [
    "epoch_list = list(range(1,EPOCHS+1))\n",
    "\n",
    "# fig = plt.figure()\n",
    "fig, (ax1, ax2) = plt.subplots(1, 2, figsize=(20, 4))\n",
    "\n",
    "# t = f.suptitle('Pre-trained InceptionResNetV2 Transfer Learn with Fine-Tuning & Image Augmentation Performance ', fontsize=12)\n",
    "# f.subplots_adjust(top=0.85, wspace=0.3)\n",
    "\n",
    "# ax1 = fig.add_subplot(2,1,1)\n",
    "ax1.plot(epoch_list, history.history['accuracy'], label='Train Accuracy')\n",
    "ax1.plot(epoch_list, history.history['val_accuracy'], label='Validation Accuracy')\n",
    "ax1.set_xticks(np.arange(0, EPOCHS+1, 1))\n",
    "ax1.set_ylabel('Accuracy Value')\n",
    "ax1.set_xlabel('Epoch #')\n",
    "ax1.set_title('Accuracy')\n",
    "ax1.legend(loc=\"best\")\n",
    "\n",
    "# ax2 = fig.add_subplot(2,1,2)\n",
    "ax2.plot(epoch_list, history.history['loss'], label='Train Loss')\n",
    "ax2.plot(epoch_list, history.history['val_loss'], label='Validation Loss')\n",
    "ax2.set_xticks(np.arange(0, EPOCHS+1, 1))\n",
    "ax2.set_ylabel('Loss Value')\n",
    "ax2.set_xlabel('Epoch #')\n",
    "ax2.set_title('Loss')\n",
    "ax2.legend(loc=\"best\")\n",
    "\n",
    "# Save just the portion _inside_ the second axis's boundaries\n",
    "extent2 = ax2.get_window_extent().transformed(fig.dpi_scale_trans.inverted())\n",
    "fig.savefig('incp_loss_plot.png', bbox_inches=extent2.expanded(1.2, 1.4), dpi = 300)\n",
    "\n",
    "extent1 = ax1.get_window_extent().transformed(fig.dpi_scale_trans.inverted())\n",
    "fig.savefig('incp_accuracy_plot.png', bbox_inches=extent1.expanded(1.2, 1.4), dpi = 300)\n",
    "\n",
    "# Pad the saved area by 10% in the x-direction and 20% in the y-direction\n",
    "# fig.savefig('ax2_figure_expanded.png', bbox_inches=extent.expanded(1.1, 1.2))"
   ]
  },
  {
   "cell_type": "code",
   "execution_count": null,
   "metadata": {},
   "outputs": [],
   "source": [
    "print(Y_val.shape)\n",
    "print(X_val.shape)"
   ]
  },
  {
   "cell_type": "code",
   "execution_count": null,
   "metadata": {},
   "outputs": [],
   "source": [
    "Y_val"
   ]
  },
  {
   "cell_type": "code",
   "execution_count": null,
   "metadata": {},
   "outputs": [],
   "source": [
    "X_val"
   ]
  },
  {
   "cell_type": "code",
   "execution_count": null,
   "metadata": {},
   "outputs": [],
   "source": [
    "Y_val_pred_proba =  model.predict_proba(X_val)\n",
    "print(Y_val_pred_proba.shape)\n",
    "Y_val_pred_proba\n",
    "\n",
    "# Y_val_pred_proba[:,1] > 0.5 \n",
    "# tells whether the sample has class 1 or not, False : 0 class , True : 1 class"
   ]
  },
  {
   "cell_type": "code",
   "execution_count": null,
   "metadata": {},
   "outputs": [],
   "source": [
    "Y_val_pred = model.predict_classes(X_val)\n",
    "Y_val_pred"
   ]
  },
  {
   "cell_type": "code",
   "execution_count": null,
   "metadata": {},
   "outputs": [],
   "source": [
    "Y_val"
   ]
  },
  {
   "cell_type": "code",
   "execution_count": null,
   "metadata": {},
   "outputs": [],
   "source": [
    "def print_confusion_matrix(y_true, y_pred):\n",
    "    cm = confusion_matrix(y_true, y_pred)\n",
    "    print('True positive = ', cm[0][0])\n",
    "    print('False positive = ', cm[0][1])\n",
    "    print('False negative = ', cm[1][0])\n",
    "    print('True negative = ', cm[1][1])\n",
    "    print('\\n')\n",
    "    df_cm = pd.DataFrame(cm, range(2), range(2))\n",
    "    sn.set(font_scale=1.4) # for label size\n",
    "    sn.heatmap(df_cm, annot=True, annot_kws={\"size\": 16}) # font size\n",
    "    plt.ylabel('Actual label', size = 20)\n",
    "    plt.xlabel('Predicted label', size = 20)\n",
    "    plt.xticks(np.arange(2), ['Fake', 'Real'], size = 16)\n",
    "    plt.yticks(np.arange(2), ['Fake', 'Real'], size = 16)\n",
    "    plt.ylim([2, 0])\n",
    "    plt.show()\n",
    "    \n",
    "print_confusion_matrix(Y_val, Y_val_pred)"
   ]
  },
  {
   "cell_type": "code",
   "execution_count": null,
   "metadata": {},
   "outputs": [],
   "source": [
    "# print(\"ROC AUC Score:\", metrics.roc_auc_score(Y_val, Y_val_pred_proba)) -> better use auc on roc_curve\n",
    "# print(\"AP Score:\", metrics.average_precision_score(Y_val, Y_val_pred_proba))\n",
    "print(\"\\n\")\n",
    "print(metrics.classification_report(Y_val, Y_val_pred))"
   ]
  },
  {
   "cell_type": "code",
   "execution_count": null,
   "metadata": {},
   "outputs": [],
   "source": [
    "import matplotlib.pyplot as plt\n",
    "from sklearn import metrics\n",
    "\n",
    "fpr, tpr, threshold = metrics.roc_curve(Y_val, Y_val_pred)\n",
    "roc_auc = metrics.auc(fpr, tpr)\n",
    "print(roc_auc)\n",
    "\n",
    "plt.title('Receiver Operating Characteristic')\n",
    "plt.plot(fpr, tpr, 'b', label = 'Inception-Resnet-v2 AUC = %0.2f' % roc_auc)\n",
    "plt.legend(loc = 'lower right')\n",
    "plt.plot([0, 1], [0, 1],'r--')\n",
    "plt.xlim([0, 1])\n",
    "plt.ylim([0, 1])\n",
    "plt.ylabel('True Positive Rate')\n",
    "plt.xlabel('False Positive Rate')\n",
    "\n",
    "plt.savefig(\"incp_roc_plot.png\", dpi = 150)\n",
    "\n",
    "plt.show()"
   ]
  },
  {
   "cell_type": "code",
   "execution_count": null,
   "metadata": {},
   "outputs": [],
   "source": [
    "model.save('deepfake-detection-model.h5')"
   ]
  },
  {
   "cell_type": "code",
   "execution_count": null,
   "metadata": {},
   "outputs": [],
   "source": [
    "model = load_model('deepfake-detection-model.h5')\n",
    "model.load_weights('deepfake-detection-model.h5')\n",
    "model"
   ]
  }
 ],
 "metadata": {
  "kernelspec": {
   "display_name": "Python 3",
   "language": "python",
   "name": "python3"
  },
  "language_info": {
   "codemirror_mode": {
    "name": "ipython",
    "version": 3
   },
   "file_extension": ".py",
   "mimetype": "text/x-python",
   "name": "python",
   "nbconvert_exporter": "python",
   "pygments_lexer": "ipython3",
   "version": "3.7.4"
  }
 },
 "nbformat": 4,
 "nbformat_minor": 2
}
